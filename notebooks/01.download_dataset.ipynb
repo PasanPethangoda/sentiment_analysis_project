{
 "cells": [
  {
   "cell_type": "code",
   "execution_count": 1,
   "metadata": {},
   "outputs": [],
   "source": [
    "import numpy as np"
   ]
  },
  {
   "cell_type": "code",
   "execution_count": 1,
   "metadata": {},
   "outputs": [],
   "source": [
    "import json\n",
    "with open('../artifacts/kaggle.json', 'r') as file:\n",
    "    data = json.load(file)"
   ]
  },
  {
   "cell_type": "code",
   "execution_count": 2,
   "metadata": {},
   "outputs": [
    {
     "data": {
      "text/plain": [
       "{'username': 'pasanpethangoda', 'key': '8f92bb777afb049904c05cd2b164bfd3'}"
      ]
     },
     "execution_count": 2,
     "metadata": {},
     "output_type": "execute_result"
    }
   ],
   "source": [
    "data"
   ]
  },
  {
   "cell_type": "code",
   "execution_count": 3,
   "metadata": {},
   "outputs": [
    {
     "name": "stdout",
     "output_type": "stream",
     "text": [
      "Collecting kaggle\n",
      "  Downloading kaggle-1.6.12.tar.gz (79 kB)\n",
      "     ---------------------------------------- 0.0/79.7 kB ? eta -:--:--\n",
      "     ---------------------------------------- 0.0/79.7 kB ? eta -:--:--\n",
      "     ---------------------------------------- 0.0/79.7 kB ? eta -:--:--\n",
      "     ---------------------------------------- 0.0/79.7 kB ? eta -:--:--\n",
      "     ----- ---------------------------------- 10.2/79.7 kB ? eta -:--:--\n",
      "     ----- ---------------------------------- 10.2/79.7 kB ? eta -:--:--\n",
      "     ----- ---------------------------------- 10.2/79.7 kB ? eta -:--:--\n",
      "     ----- ---------------------------------- 10.2/79.7 kB ? eta -:--:--\n",
      "     ----- ---------------------------------- 10.2/79.7 kB ? eta -:--:--\n",
      "     ----- ---------------------------------- 10.2/79.7 kB ? eta -:--:--\n",
      "     ----- ---------------------------------- 10.2/79.7 kB ? eta -:--:--\n",
      "     ----- ---------------------------------- 10.2/79.7 kB ? eta -:--:--\n",
      "     --------------- ----------------------- 30.7/79.7 kB 54.6 kB/s eta 0:00:01\n",
      "     --------------- ----------------------- 30.7/79.7 kB 54.6 kB/s eta 0:00:01\n",
      "     -------------------- ------------------ 41.0/79.7 kB 63.5 kB/s eta 0:00:01\n",
      "     ---------------------------------- --- 71.7/79.7 kB 115.7 kB/s eta 0:00:01\n",
      "     -------------------------------------- 79.7/79.7 kB 123.5 kB/s eta 0:00:00\n",
      "  Preparing metadata (setup.py): started\n",
      "  Preparing metadata (setup.py): finished with status 'done'\n",
      "Requirement already satisfied: six>=1.10 in c:\\users\\asus\\desktop\\sentiment_analysis_project\\env\\lib\\site-packages (from kaggle) (1.16.0)\n",
      "Requirement already satisfied: certifi>=2023.7.22 in c:\\users\\asus\\desktop\\sentiment_analysis_project\\env\\lib\\site-packages (from kaggle) (2024.2.2)\n",
      "Requirement already satisfied: python-dateutil in c:\\users\\asus\\desktop\\sentiment_analysis_project\\env\\lib\\site-packages (from kaggle) (2.9.0.post0)\n",
      "Requirement already satisfied: requests in c:\\users\\asus\\desktop\\sentiment_analysis_project\\env\\lib\\site-packages (from kaggle) (2.31.0)\n",
      "Collecting tqdm (from kaggle)\n",
      "  Downloading tqdm-4.66.2-py3-none-any.whl.metadata (57 kB)\n",
      "     ---------------------------------------- 0.0/57.6 kB ? eta -:--:--\n",
      "     ---------------------------------------- 0.0/57.6 kB ? eta -:--:--\n",
      "     ------- -------------------------------- 10.2/57.6 kB ? eta -:--:--\n",
      "     -------------------- ----------------- 30.7/57.6 kB 660.6 kB/s eta 0:00:01\n",
      "     -------------------- ----------------- 30.7/57.6 kB 660.6 kB/s eta 0:00:01\n",
      "     --------------------------------- ---- 51.2/57.6 kB 290.5 kB/s eta 0:00:01\n",
      "     -------------------------------------- 57.6/57.6 kB 303.5 kB/s eta 0:00:00\n",
      "Collecting python-slugify (from kaggle)\n",
      "  Downloading python_slugify-8.0.4-py2.py3-none-any.whl.metadata (8.5 kB)\n",
      "Requirement already satisfied: urllib3 in c:\\users\\asus\\desktop\\sentiment_analysis_project\\env\\lib\\site-packages (from kaggle) (2.2.1)\n",
      "Requirement already satisfied: bleach in c:\\users\\asus\\desktop\\sentiment_analysis_project\\env\\lib\\site-packages (from kaggle) (6.1.0)\n",
      "Requirement already satisfied: webencodings in c:\\users\\asus\\desktop\\sentiment_analysis_project\\env\\lib\\site-packages (from bleach->kaggle) (0.5.1)\n",
      "Collecting text-unidecode>=1.3 (from python-slugify->kaggle)\n",
      "  Downloading text_unidecode-1.3-py2.py3-none-any.whl.metadata (2.4 kB)\n",
      "Requirement already satisfied: charset-normalizer<4,>=2 in c:\\users\\asus\\desktop\\sentiment_analysis_project\\env\\lib\\site-packages (from requests->kaggle) (3.3.2)\n",
      "Requirement already satisfied: idna<4,>=2.5 in c:\\users\\asus\\desktop\\sentiment_analysis_project\\env\\lib\\site-packages (from requests->kaggle) (3.7)\n",
      "Requirement already satisfied: colorama in c:\\users\\asus\\desktop\\sentiment_analysis_project\\env\\lib\\site-packages (from tqdm->kaggle) (0.4.6)\n",
      "Downloading python_slugify-8.0.4-py2.py3-none-any.whl (10 kB)\n",
      "Downloading tqdm-4.66.2-py3-none-any.whl (78 kB)\n",
      "   ---------------------------------------- 0.0/78.3 kB ? eta -:--:--\n",
      "   ----- ---------------------------------- 10.2/78.3 kB ? eta -:--:--\n",
      "   --------------- ------------------------ 30.7/78.3 kB 330.3 kB/s eta 0:00:01\n",
      "   --------------- ------------------------ 30.7/78.3 kB 330.3 kB/s eta 0:00:01\n",
      "   -------------------------- ------------- 51.2/78.3 kB 262.6 kB/s eta 0:00:01\n",
      "   ------------------------------------ --- 71.7/78.3 kB 328.6 kB/s eta 0:00:01\n",
      "   ---------------------------------------- 78.3/78.3 kB 290.8 kB/s eta 0:00:00\n",
      "Downloading text_unidecode-1.3-py2.py3-none-any.whl (78 kB)\n",
      "   ---------------------------------------- 0.0/78.2 kB ? eta -:--:--\n",
      "   ---------------------------------------- 0.0/78.2 kB ? eta -:--:--\n",
      "   --------------- ------------------------ 30.7/78.2 kB 1.3 MB/s eta 0:00:01\n",
      "   --------------- ------------------------ 30.7/78.2 kB 1.3 MB/s eta 0:00:01\n",
      "   -------------------- ------------------- 41.0/78.2 kB 245.8 kB/s eta 0:00:01\n",
      "   ------------------------------- -------- 61.4/78.2 kB 297.7 kB/s eta 0:00:01\n",
      "   ------------------------------------ --- 71.7/78.2 kB 280.5 kB/s eta 0:00:01\n",
      "   ---------------------------------------- 78.2/78.2 kB 255.3 kB/s eta 0:00:00\n",
      "Building wheels for collected packages: kaggle\n",
      "  Building wheel for kaggle (setup.py): started\n",
      "  Building wheel for kaggle (setup.py): finished with status 'done'\n",
      "  Created wheel for kaggle: filename=kaggle-1.6.12-py3-none-any.whl size=102982 sha256=fee7bdd4eca02f57f6092d40899da5ced2e3b317f8b3d4eebd7b185d288f7585\n",
      "  Stored in directory: c:\\users\\asus\\appdata\\local\\pip\\cache\\wheels\\1e\\0b\\7c\\50f8e89c3d2f82838dbd7afeddffbb9357003009ada98216c7\n",
      "Successfully built kaggle\n",
      "Installing collected packages: text-unidecode, tqdm, python-slugify, kaggle\n",
      "Successfully installed kaggle-1.6.12 python-slugify-8.0.4 text-unidecode-1.3 tqdm-4.66.2\n"
     ]
    }
   ],
   "source": [
    "!pip install kaggle"
   ]
  },
  {
   "cell_type": "code",
   "execution_count": 4,
   "metadata": {},
   "outputs": [],
   "source": [
    "import os\n",
    "os.environ['KAGGLE_USERNAME'] = data['username']\n",
    "os.environ['KAGGLE_KEY'] = data['key']"
   ]
  },
  {
   "cell_type": "code",
   "execution_count": 5,
   "metadata": {},
   "outputs": [],
   "source": [
    "from kaggle.api.kaggle_api_extended import KaggleApi\n",
    "api = KaggleApi()\n",
    "api.authenticate()"
   ]
  },
  {
   "cell_type": "code",
   "execution_count": 6,
   "metadata": {},
   "outputs": [
    {
     "name": "stdout",
     "output_type": "stream",
     "text": [
      "Dataset URL: https://www.kaggle.com/datasets/dineshpiyasamara/sentiment-analysis-dataset\n"
     ]
    }
   ],
   "source": [
    "api.dataset_download_files('dineshpiyasamara/sentiment-analysis-dataset', path='../artifacts/')"
   ]
  },
  {
   "cell_type": "code",
   "execution_count": 7,
   "metadata": {},
   "outputs": [],
   "source": [
    "import zipfile\n",
    "with zipfile.ZipFile('../artifacts/sentiment-analysis-dataset.zip', 'r') as zip_ref:\n",
    "    zip_ref.extractall('../artifacts/')"
   ]
  },
  {
   "cell_type": "code",
   "execution_count": null,
   "metadata": {},
   "outputs": [],
   "source": []
  }
 ],
 "metadata": {
  "kernelspec": {
   "display_name": "Python 3 (ipykernel)",
   "language": "python",
   "name": "python3"
  },
  "language_info": {
   "codemirror_mode": {
    "name": "ipython",
    "version": 3
   },
   "file_extension": ".py",
   "mimetype": "text/x-python",
   "name": "python",
   "nbconvert_exporter": "python",
   "pygments_lexer": "ipython3",
   "version": "3.10.11"
  }
 },
 "nbformat": 4,
 "nbformat_minor": 4
}
